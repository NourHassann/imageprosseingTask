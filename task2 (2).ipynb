{
 "cells": [
  {
   "cell_type": "code",
   "execution_count": 1,
   "id": "7aaf817a-cc8b-4295-bf42-0092ba7e8c9e",
   "metadata": {},
   "outputs": [],
   "source": [
    "import numpy as np\n",
    "import cv2\n",
    "import matplotlib.pyplot as plt\n",
    "plt.rcParams['figure.figsize'] = [10, 3]"
   ]
  },
  {
   "cell_type": "code",
   "execution_count": 2,
   "id": "803a3be3-26ac-40c0-857b-ea73d2669945",
   "metadata": {},
   "outputs": [],
   "source": [
    "concat1= cv2.imread('concat1.jpg',0)\n",
    "concat2= cv2.imread('concat2.jpg',0)\n",
    "concat3= cv2.imread('concat3.jpg',0)"
   ]
  },
  {
   "cell_type": "code",
   "execution_count": null,
   "id": "d88f6cba-6708-4424-864e-7f2e02d26f94",
   "metadata": {},
   "outputs": [],
   "source": [
    "cv2.imshow(\"concat1\", concat1)\n",
    "cv2.imshow(\"concat2\", concat2)\n",
    "cv2.imshow(\"concat3\", concat3)\n",
    "cv2.waitKey(0)\n",
    "cv2.destroyAllWindows()"
   ]
  },
  {
   "cell_type": "code",
   "execution_count": 5,
   "id": "b6e56713-de86-44db-9101-ce73ed975565",
   "metadata": {},
   "outputs": [],
   "source": [
    "images = np.concatenate((concat1, concat2, concat3), axis=1)"
   ]
  },
  {
   "cell_type": "code",
   "execution_count": 4,
   "id": "460f868f-501c-4d3d-851a-d165c955a2ca",
   "metadata": {},
   "outputs": [],
   "source": [
    "cv2.imshow(\"immage total\", images)\n",
    "cv2.waitKey(0)\n",
    "cv2.destroyAllWindows()"
   ]
  },
  {
   "cell_type": "code",
   "execution_count": null,
   "id": "916dbf84-0782-4c8f-8360-1c9aab7246ad",
   "metadata": {},
   "outputs": [],
   "source": []
  },
  {
   "cell_type": "code",
   "execution_count": null,
   "id": "09d24e36-7aa3-41d2-bb67-3dc104f7882f",
   "metadata": {},
   "outputs": [],
   "source": []
  }
 ],
 "metadata": {
  "kernelspec": {
   "display_name": "Python 3 (ipykernel)",
   "language": "python",
   "name": "python3"
  },
  "language_info": {
   "codemirror_mode": {
    "name": "ipython",
    "version": 3
   },
   "file_extension": ".py",
   "mimetype": "text/x-python",
   "name": "python",
   "nbconvert_exporter": "python",
   "pygments_lexer": "ipython3",
   "version": "3.11.4"
  }
 },
 "nbformat": 4,
 "nbformat_minor": 5
}
